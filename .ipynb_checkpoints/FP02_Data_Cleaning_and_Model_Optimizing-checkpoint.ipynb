{
 "cells": [
  {
   "cell_type": "markdown",
   "metadata": {},
   "source": [
    "# BANK CHURN PREDICTION | Data Cleaning & Model Optimizing\n",
    "[Datasets Source](https://www.kaggle.com/shrutimechlearn/churn-modelling)"
   ]
  },
  {
   "cell_type": "markdown",
   "metadata": {},
   "source": [
    "## Importing Library"
   ]
  },
  {
   "cell_type": "code",
   "execution_count": 1,
   "metadata": {},
   "outputs": [],
   "source": [
    "import numpy as np\n",
    "import pandas as pd\n",
    "import matplotlib.pyplot as plt\n",
    "from sklearn.preprocessing import StandardScaler\n",
    "from sklearn.model_selection import train_test_split, RandomizedSearchCV\n",
    "from sklearn.linear_model import LogisticRegression\n",
    "from sklearn.tree import DecisionTreeClassifier\n",
    "from sklearn.neighbors import KNeighborsClassifier\n",
    "from sklearn.ensemble import RandomForestClassifier\n",
    "from sklearn.metrics import roc_auc_score, classification_report, accuracy_score, roc_curve, auc, confusion_matrix\n",
    "import joblib\n",
    "import warnings\n",
    "warnings.filterwarnings('ignore')"
   ]
  },
  {
   "cell_type": "markdown",
   "metadata": {},
   "source": [
    "## Importing Data"
   ]
  },
  {
   "cell_type": "code",
   "execution_count": 2,
   "metadata": {},
   "outputs": [
    {
     "data": {
      "text/html": [
       "<div>\n",
       "<style scoped>\n",
       "    .dataframe tbody tr th:only-of-type {\n",
       "        vertical-align: middle;\n",
       "    }\n",
       "\n",
       "    .dataframe tbody tr th {\n",
       "        vertical-align: top;\n",
       "    }\n",
       "\n",
       "    .dataframe thead th {\n",
       "        text-align: right;\n",
       "    }\n",
       "</style>\n",
       "<table border=\"1\" class=\"dataframe\">\n",
       "  <thead>\n",
       "    <tr style=\"text-align: right;\">\n",
       "      <th></th>\n",
       "      <th>France</th>\n",
       "      <th>Germany</th>\n",
       "      <th>Spain</th>\n",
       "      <th>Female</th>\n",
       "      <th>Male</th>\n",
       "      <th>CreditScore</th>\n",
       "      <th>Age</th>\n",
       "      <th>Tenure</th>\n",
       "      <th>Balance</th>\n",
       "      <th>NumOfProducts</th>\n",
       "      <th>HasCrCard</th>\n",
       "      <th>IsActiveMember</th>\n",
       "      <th>EstimatedSalary</th>\n",
       "      <th>Exited</th>\n",
       "    </tr>\n",
       "  </thead>\n",
       "  <tbody>\n",
       "    <tr>\n",
       "      <th>0</th>\n",
       "      <td>1</td>\n",
       "      <td>0</td>\n",
       "      <td>0</td>\n",
       "      <td>1</td>\n",
       "      <td>0</td>\n",
       "      <td>619</td>\n",
       "      <td>42</td>\n",
       "      <td>2</td>\n",
       "      <td>0.00</td>\n",
       "      <td>1</td>\n",
       "      <td>1</td>\n",
       "      <td>1</td>\n",
       "      <td>101348.88</td>\n",
       "      <td>1</td>\n",
       "    </tr>\n",
       "    <tr>\n",
       "      <th>1</th>\n",
       "      <td>0</td>\n",
       "      <td>0</td>\n",
       "      <td>1</td>\n",
       "      <td>1</td>\n",
       "      <td>0</td>\n",
       "      <td>608</td>\n",
       "      <td>41</td>\n",
       "      <td>1</td>\n",
       "      <td>83807.86</td>\n",
       "      <td>1</td>\n",
       "      <td>0</td>\n",
       "      <td>1</td>\n",
       "      <td>112542.58</td>\n",
       "      <td>0</td>\n",
       "    </tr>\n",
       "    <tr>\n",
       "      <th>2</th>\n",
       "      <td>1</td>\n",
       "      <td>0</td>\n",
       "      <td>0</td>\n",
       "      <td>1</td>\n",
       "      <td>0</td>\n",
       "      <td>502</td>\n",
       "      <td>42</td>\n",
       "      <td>8</td>\n",
       "      <td>159660.80</td>\n",
       "      <td>3</td>\n",
       "      <td>1</td>\n",
       "      <td>0</td>\n",
       "      <td>113931.57</td>\n",
       "      <td>1</td>\n",
       "    </tr>\n",
       "    <tr>\n",
       "      <th>3</th>\n",
       "      <td>1</td>\n",
       "      <td>0</td>\n",
       "      <td>0</td>\n",
       "      <td>1</td>\n",
       "      <td>0</td>\n",
       "      <td>699</td>\n",
       "      <td>39</td>\n",
       "      <td>1</td>\n",
       "      <td>0.00</td>\n",
       "      <td>2</td>\n",
       "      <td>0</td>\n",
       "      <td>0</td>\n",
       "      <td>93826.63</td>\n",
       "      <td>0</td>\n",
       "    </tr>\n",
       "    <tr>\n",
       "      <th>4</th>\n",
       "      <td>0</td>\n",
       "      <td>0</td>\n",
       "      <td>1</td>\n",
       "      <td>1</td>\n",
       "      <td>0</td>\n",
       "      <td>850</td>\n",
       "      <td>43</td>\n",
       "      <td>2</td>\n",
       "      <td>125510.82</td>\n",
       "      <td>1</td>\n",
       "      <td>1</td>\n",
       "      <td>1</td>\n",
       "      <td>79084.10</td>\n",
       "      <td>0</td>\n",
       "    </tr>\n",
       "    <tr>\n",
       "      <th>...</th>\n",
       "      <td>...</td>\n",
       "      <td>...</td>\n",
       "      <td>...</td>\n",
       "      <td>...</td>\n",
       "      <td>...</td>\n",
       "      <td>...</td>\n",
       "      <td>...</td>\n",
       "      <td>...</td>\n",
       "      <td>...</td>\n",
       "      <td>...</td>\n",
       "      <td>...</td>\n",
       "      <td>...</td>\n",
       "      <td>...</td>\n",
       "      <td>...</td>\n",
       "    </tr>\n",
       "    <tr>\n",
       "      <th>9995</th>\n",
       "      <td>1</td>\n",
       "      <td>0</td>\n",
       "      <td>0</td>\n",
       "      <td>0</td>\n",
       "      <td>1</td>\n",
       "      <td>771</td>\n",
       "      <td>39</td>\n",
       "      <td>5</td>\n",
       "      <td>0.00</td>\n",
       "      <td>2</td>\n",
       "      <td>1</td>\n",
       "      <td>0</td>\n",
       "      <td>96270.64</td>\n",
       "      <td>0</td>\n",
       "    </tr>\n",
       "    <tr>\n",
       "      <th>9996</th>\n",
       "      <td>1</td>\n",
       "      <td>0</td>\n",
       "      <td>0</td>\n",
       "      <td>0</td>\n",
       "      <td>1</td>\n",
       "      <td>516</td>\n",
       "      <td>35</td>\n",
       "      <td>10</td>\n",
       "      <td>57369.61</td>\n",
       "      <td>1</td>\n",
       "      <td>1</td>\n",
       "      <td>1</td>\n",
       "      <td>101699.77</td>\n",
       "      <td>0</td>\n",
       "    </tr>\n",
       "    <tr>\n",
       "      <th>9997</th>\n",
       "      <td>1</td>\n",
       "      <td>0</td>\n",
       "      <td>0</td>\n",
       "      <td>1</td>\n",
       "      <td>0</td>\n",
       "      <td>709</td>\n",
       "      <td>36</td>\n",
       "      <td>7</td>\n",
       "      <td>0.00</td>\n",
       "      <td>1</td>\n",
       "      <td>0</td>\n",
       "      <td>1</td>\n",
       "      <td>42085.58</td>\n",
       "      <td>1</td>\n",
       "    </tr>\n",
       "    <tr>\n",
       "      <th>9998</th>\n",
       "      <td>0</td>\n",
       "      <td>1</td>\n",
       "      <td>0</td>\n",
       "      <td>0</td>\n",
       "      <td>1</td>\n",
       "      <td>772</td>\n",
       "      <td>42</td>\n",
       "      <td>3</td>\n",
       "      <td>75075.31</td>\n",
       "      <td>2</td>\n",
       "      <td>1</td>\n",
       "      <td>0</td>\n",
       "      <td>92888.52</td>\n",
       "      <td>1</td>\n",
       "    </tr>\n",
       "    <tr>\n",
       "      <th>9999</th>\n",
       "      <td>1</td>\n",
       "      <td>0</td>\n",
       "      <td>0</td>\n",
       "      <td>1</td>\n",
       "      <td>0</td>\n",
       "      <td>792</td>\n",
       "      <td>28</td>\n",
       "      <td>4</td>\n",
       "      <td>130142.79</td>\n",
       "      <td>1</td>\n",
       "      <td>1</td>\n",
       "      <td>0</td>\n",
       "      <td>38190.78</td>\n",
       "      <td>0</td>\n",
       "    </tr>\n",
       "  </tbody>\n",
       "</table>\n",
       "<p>10000 rows × 14 columns</p>\n",
       "</div>"
      ],
      "text/plain": [
       "      France  Germany  Spain  Female  Male  CreditScore  Age  Tenure  \\\n",
       "0          1        0      0       1     0          619   42       2   \n",
       "1          0        0      1       1     0          608   41       1   \n",
       "2          1        0      0       1     0          502   42       8   \n",
       "3          1        0      0       1     0          699   39       1   \n",
       "4          0        0      1       1     0          850   43       2   \n",
       "...      ...      ...    ...     ...   ...          ...  ...     ...   \n",
       "9995       1        0      0       0     1          771   39       5   \n",
       "9996       1        0      0       0     1          516   35      10   \n",
       "9997       1        0      0       1     0          709   36       7   \n",
       "9998       0        1      0       0     1          772   42       3   \n",
       "9999       1        0      0       1     0          792   28       4   \n",
       "\n",
       "        Balance  NumOfProducts  HasCrCard  IsActiveMember  EstimatedSalary  \\\n",
       "0          0.00              1          1               1        101348.88   \n",
       "1      83807.86              1          0               1        112542.58   \n",
       "2     159660.80              3          1               0        113931.57   \n",
       "3          0.00              2          0               0         93826.63   \n",
       "4     125510.82              1          1               1         79084.10   \n",
       "...         ...            ...        ...             ...              ...   \n",
       "9995       0.00              2          1               0         96270.64   \n",
       "9996   57369.61              1          1               1        101699.77   \n",
       "9997       0.00              1          0               1         42085.58   \n",
       "9998   75075.31              2          1               0         92888.52   \n",
       "9999  130142.79              1          1               0         38190.78   \n",
       "\n",
       "      Exited  \n",
       "0          1  \n",
       "1          0  \n",
       "2          1  \n",
       "3          0  \n",
       "4          0  \n",
       "...      ...  \n",
       "9995       0  \n",
       "9996       0  \n",
       "9997       1  \n",
       "9998       1  \n",
       "9999       0  \n",
       "\n",
       "[10000 rows x 14 columns]"
      ]
     },
     "execution_count": 2,
     "metadata": {},
     "output_type": "execute_result"
    }
   ],
   "source": [
    "data = pd.read_csv(\"CM_Dummy.csv\")\n",
    "data"
   ]
  },
  {
   "cell_type": "markdown",
   "metadata": {},
   "source": [
    "<hr>\n",
    "\n",
    "## Data Standardizing\n",
    "\n",
    "Standardizing using `StandardScaler`"
   ]
  },
  {
   "cell_type": "code",
   "execution_count": 3,
   "metadata": {},
   "outputs": [],
   "source": [
    "scaler = StandardScaler()\n",
    "dtFeatures = data.drop(\"Exited\", axis= 1)\n",
    "dtTarget = data[\"Exited\"]"
   ]
  },
  {
   "cell_type": "code",
   "execution_count": 4,
   "metadata": {},
   "outputs": [
    {
     "data": {
      "text/html": [
       "<div>\n",
       "<style scoped>\n",
       "    .dataframe tbody tr th:only-of-type {\n",
       "        vertical-align: middle;\n",
       "    }\n",
       "\n",
       "    .dataframe tbody tr th {\n",
       "        vertical-align: top;\n",
       "    }\n",
       "\n",
       "    .dataframe thead th {\n",
       "        text-align: right;\n",
       "    }\n",
       "</style>\n",
       "<table border=\"1\" class=\"dataframe\">\n",
       "  <thead>\n",
       "    <tr style=\"text-align: right;\">\n",
       "      <th></th>\n",
       "      <th>geo_FRA</th>\n",
       "      <th>geo_GER</th>\n",
       "      <th>geo_SPA</th>\n",
       "      <th>gen_F</th>\n",
       "      <th>gen_M</th>\n",
       "      <th>CrScore</th>\n",
       "      <th>Age</th>\n",
       "      <th>Tnr</th>\n",
       "      <th>Bal</th>\n",
       "      <th>NOfProd</th>\n",
       "      <th>CC</th>\n",
       "      <th>Actv</th>\n",
       "      <th>Slr</th>\n",
       "      <th>Exit</th>\n",
       "    </tr>\n",
       "  </thead>\n",
       "  <tbody>\n",
       "    <tr>\n",
       "      <th>0</th>\n",
       "      <td>0.997204</td>\n",
       "      <td>-0.578736</td>\n",
       "      <td>-0.573809</td>\n",
       "      <td>1.095988</td>\n",
       "      <td>-1.095988</td>\n",
       "      <td>-0.326221</td>\n",
       "      <td>0.293517</td>\n",
       "      <td>-1.041760</td>\n",
       "      <td>-1.225848</td>\n",
       "      <td>-0.911583</td>\n",
       "      <td>0.646092</td>\n",
       "      <td>0.970243</td>\n",
       "      <td>0.021886</td>\n",
       "      <td>1</td>\n",
       "    </tr>\n",
       "    <tr>\n",
       "      <th>1</th>\n",
       "      <td>-1.002804</td>\n",
       "      <td>-0.578736</td>\n",
       "      <td>1.742740</td>\n",
       "      <td>1.095988</td>\n",
       "      <td>-1.095988</td>\n",
       "      <td>-0.440036</td>\n",
       "      <td>0.198164</td>\n",
       "      <td>-1.387538</td>\n",
       "      <td>0.117350</td>\n",
       "      <td>-0.911583</td>\n",
       "      <td>-1.547768</td>\n",
       "      <td>0.970243</td>\n",
       "      <td>0.216534</td>\n",
       "      <td>0</td>\n",
       "    </tr>\n",
       "    <tr>\n",
       "      <th>2</th>\n",
       "      <td>0.997204</td>\n",
       "      <td>-0.578736</td>\n",
       "      <td>-0.573809</td>\n",
       "      <td>1.095988</td>\n",
       "      <td>-1.095988</td>\n",
       "      <td>-1.536794</td>\n",
       "      <td>0.293517</td>\n",
       "      <td>1.032908</td>\n",
       "      <td>1.333053</td>\n",
       "      <td>2.527057</td>\n",
       "      <td>0.646092</td>\n",
       "      <td>-1.030670</td>\n",
       "      <td>0.240687</td>\n",
       "      <td>1</td>\n",
       "    </tr>\n",
       "    <tr>\n",
       "      <th>3</th>\n",
       "      <td>0.997204</td>\n",
       "      <td>-0.578736</td>\n",
       "      <td>-0.573809</td>\n",
       "      <td>1.095988</td>\n",
       "      <td>-1.095988</td>\n",
       "      <td>0.501521</td>\n",
       "      <td>0.007457</td>\n",
       "      <td>-1.387538</td>\n",
       "      <td>-1.225848</td>\n",
       "      <td>0.807737</td>\n",
       "      <td>-1.547768</td>\n",
       "      <td>-1.030670</td>\n",
       "      <td>-0.108918</td>\n",
       "      <td>0</td>\n",
       "    </tr>\n",
       "    <tr>\n",
       "      <th>4</th>\n",
       "      <td>-1.002804</td>\n",
       "      <td>-0.578736</td>\n",
       "      <td>1.742740</td>\n",
       "      <td>1.095988</td>\n",
       "      <td>-1.095988</td>\n",
       "      <td>2.063884</td>\n",
       "      <td>0.388871</td>\n",
       "      <td>-1.041760</td>\n",
       "      <td>0.785728</td>\n",
       "      <td>-0.911583</td>\n",
       "      <td>0.646092</td>\n",
       "      <td>0.970243</td>\n",
       "      <td>-0.365276</td>\n",
       "      <td>0</td>\n",
       "    </tr>\n",
       "    <tr>\n",
       "      <th>...</th>\n",
       "      <td>...</td>\n",
       "      <td>...</td>\n",
       "      <td>...</td>\n",
       "      <td>...</td>\n",
       "      <td>...</td>\n",
       "      <td>...</td>\n",
       "      <td>...</td>\n",
       "      <td>...</td>\n",
       "      <td>...</td>\n",
       "      <td>...</td>\n",
       "      <td>...</td>\n",
       "      <td>...</td>\n",
       "      <td>...</td>\n",
       "      <td>...</td>\n",
       "    </tr>\n",
       "    <tr>\n",
       "      <th>9995</th>\n",
       "      <td>0.997204</td>\n",
       "      <td>-0.578736</td>\n",
       "      <td>-0.573809</td>\n",
       "      <td>-0.912419</td>\n",
       "      <td>0.912419</td>\n",
       "      <td>1.246488</td>\n",
       "      <td>0.007457</td>\n",
       "      <td>-0.004426</td>\n",
       "      <td>-1.225848</td>\n",
       "      <td>0.807737</td>\n",
       "      <td>0.646092</td>\n",
       "      <td>-1.030670</td>\n",
       "      <td>-0.066419</td>\n",
       "      <td>0</td>\n",
       "    </tr>\n",
       "    <tr>\n",
       "      <th>9996</th>\n",
       "      <td>0.997204</td>\n",
       "      <td>-0.578736</td>\n",
       "      <td>-0.573809</td>\n",
       "      <td>-0.912419</td>\n",
       "      <td>0.912419</td>\n",
       "      <td>-1.391939</td>\n",
       "      <td>-0.373958</td>\n",
       "      <td>1.724464</td>\n",
       "      <td>-0.306379</td>\n",
       "      <td>-0.911583</td>\n",
       "      <td>0.646092</td>\n",
       "      <td>0.970243</td>\n",
       "      <td>0.027988</td>\n",
       "      <td>0</td>\n",
       "    </tr>\n",
       "    <tr>\n",
       "      <th>9997</th>\n",
       "      <td>0.997204</td>\n",
       "      <td>-0.578736</td>\n",
       "      <td>-0.573809</td>\n",
       "      <td>1.095988</td>\n",
       "      <td>-1.095988</td>\n",
       "      <td>0.604988</td>\n",
       "      <td>-0.278604</td>\n",
       "      <td>0.687130</td>\n",
       "      <td>-1.225848</td>\n",
       "      <td>-0.911583</td>\n",
       "      <td>-1.547768</td>\n",
       "      <td>0.970243</td>\n",
       "      <td>-1.008643</td>\n",
       "      <td>1</td>\n",
       "    </tr>\n",
       "    <tr>\n",
       "      <th>9998</th>\n",
       "      <td>-1.002804</td>\n",
       "      <td>1.727904</td>\n",
       "      <td>-0.573809</td>\n",
       "      <td>-0.912419</td>\n",
       "      <td>0.912419</td>\n",
       "      <td>1.256835</td>\n",
       "      <td>0.293517</td>\n",
       "      <td>-0.695982</td>\n",
       "      <td>-0.022608</td>\n",
       "      <td>0.807737</td>\n",
       "      <td>0.646092</td>\n",
       "      <td>-1.030670</td>\n",
       "      <td>-0.125231</td>\n",
       "      <td>1</td>\n",
       "    </tr>\n",
       "    <tr>\n",
       "      <th>9999</th>\n",
       "      <td>0.997204</td>\n",
       "      <td>-0.578736</td>\n",
       "      <td>-0.573809</td>\n",
       "      <td>1.095988</td>\n",
       "      <td>-1.095988</td>\n",
       "      <td>1.463771</td>\n",
       "      <td>-1.041433</td>\n",
       "      <td>-0.350204</td>\n",
       "      <td>0.859965</td>\n",
       "      <td>-0.911583</td>\n",
       "      <td>0.646092</td>\n",
       "      <td>-1.030670</td>\n",
       "      <td>-1.076370</td>\n",
       "      <td>0</td>\n",
       "    </tr>\n",
       "  </tbody>\n",
       "</table>\n",
       "<p>10000 rows × 14 columns</p>\n",
       "</div>"
      ],
      "text/plain": [
       "       geo_FRA   geo_GER   geo_SPA     gen_F     gen_M   CrScore       Age  \\\n",
       "0     0.997204 -0.578736 -0.573809  1.095988 -1.095988 -0.326221  0.293517   \n",
       "1    -1.002804 -0.578736  1.742740  1.095988 -1.095988 -0.440036  0.198164   \n",
       "2     0.997204 -0.578736 -0.573809  1.095988 -1.095988 -1.536794  0.293517   \n",
       "3     0.997204 -0.578736 -0.573809  1.095988 -1.095988  0.501521  0.007457   \n",
       "4    -1.002804 -0.578736  1.742740  1.095988 -1.095988  2.063884  0.388871   \n",
       "...        ...       ...       ...       ...       ...       ...       ...   \n",
       "9995  0.997204 -0.578736 -0.573809 -0.912419  0.912419  1.246488  0.007457   \n",
       "9996  0.997204 -0.578736 -0.573809 -0.912419  0.912419 -1.391939 -0.373958   \n",
       "9997  0.997204 -0.578736 -0.573809  1.095988 -1.095988  0.604988 -0.278604   \n",
       "9998 -1.002804  1.727904 -0.573809 -0.912419  0.912419  1.256835  0.293517   \n",
       "9999  0.997204 -0.578736 -0.573809  1.095988 -1.095988  1.463771 -1.041433   \n",
       "\n",
       "           Tnr       Bal   NOfProd        CC      Actv       Slr  Exit  \n",
       "0    -1.041760 -1.225848 -0.911583  0.646092  0.970243  0.021886     1  \n",
       "1    -1.387538  0.117350 -0.911583 -1.547768  0.970243  0.216534     0  \n",
       "2     1.032908  1.333053  2.527057  0.646092 -1.030670  0.240687     1  \n",
       "3    -1.387538 -1.225848  0.807737 -1.547768 -1.030670 -0.108918     0  \n",
       "4    -1.041760  0.785728 -0.911583  0.646092  0.970243 -0.365276     0  \n",
       "...        ...       ...       ...       ...       ...       ...   ...  \n",
       "9995 -0.004426 -1.225848  0.807737  0.646092 -1.030670 -0.066419     0  \n",
       "9996  1.724464 -0.306379 -0.911583  0.646092  0.970243  0.027988     0  \n",
       "9997  0.687130 -1.225848 -0.911583 -1.547768  0.970243 -1.008643     1  \n",
       "9998 -0.695982 -0.022608  0.807737  0.646092 -1.030670 -0.125231     1  \n",
       "9999 -0.350204  0.859965 -0.911583  0.646092 -1.030670 -1.076370     0  \n",
       "\n",
       "[10000 rows x 14 columns]"
      ]
     },
     "execution_count": 4,
     "metadata": {},
     "output_type": "execute_result"
    }
   ],
   "source": [
    "newColName = [\"geo_FRA\", \"geo_GER\", \"geo_SPA\", \"gen_F\", \"gen_M\", \"CrScore\", \"Age\", \"Tnr\", \"Bal\",\"NOfProd\", \"CC\", \"Actv\", \"Slr\"]\n",
    "scaler = scaler.fit(dtFeatures)\n",
    "dtScale = scaler.transform(dtFeatures)\n",
    "dtChurn = pd.DataFrame(dtScale, columns = newColName)\n",
    "dtChurn[\"Exit\"] = dtTarget\n",
    "dtChurn"
   ]
  },
  {
   "cell_type": "markdown",
   "metadata": {},
   "source": [
    "<hr>\n",
    "\n",
    "## Data Splitting\n",
    "\n",
    "`train_test_split` data to prepared into this following models : \n",
    "-  `LogisticRegression`\n",
    "-  `DecisionTreeClassifier`\n",
    "-  `KNeighborClassifier`\n",
    "-  `RandomForestClassifier`"
   ]
  },
  {
   "cell_type": "code",
   "execution_count": 5,
   "metadata": {},
   "outputs": [],
   "source": [
    "x = np.array(dtChurn.iloc[:,:-1])\n",
    "y = np.array(dtChurn[\"Exit\"])"
   ]
  },
  {
   "cell_type": "code",
   "execution_count": 6,
   "metadata": {},
   "outputs": [
    {
     "data": {
      "text/plain": [
       "(8000, 2000)"
      ]
     },
     "execution_count": 6,
     "metadata": {},
     "output_type": "execute_result"
    }
   ],
   "source": [
    "xtr, xts, ytr, yts = train_test_split(x, y, test_size= .2)\n",
    "\n",
    "len(xtr), len(xts)"
   ]
  },
  {
   "cell_type": "markdown",
   "metadata": {},
   "source": [
    "<hr>\n",
    "\n",
    "## Hyper-parameter Tuning"
   ]
  },
  {
   "cell_type": "markdown",
   "metadata": {},
   "source": [
    "Creating function to check score for every models >> `scoring`"
   ]
  },
  {
   "cell_type": "code",
   "execution_count": 7,
   "metadata": {},
   "outputs": [],
   "source": [
    "def scoring(model, x, y):\n",
    "    ypr = model.predict(x)\n",
    "    scor = model.score(x, y)\n",
    "    asc = accuracy_score(y, ypr)\n",
    "    clr = classification_report(y, ypr)\n",
    "    auc = roc_auc_score(y, ypr)\n",
    "    print(clr)\n",
    "    print(\"AUC Score: {:0.2}\".format(auc))\n",
    "    print(\"Score: \", round(scor,3))"
   ]
  },
  {
   "cell_type": "markdown",
   "metadata": {},
   "source": [
    "<hr>\n",
    "\n",
    "### 1. Logistic Regression"
   ]
  },
  {
   "cell_type": "code",
   "execution_count": 8,
   "metadata": {},
   "outputs": [
    {
     "data": {
      "text/plain": [
       "RandomizedSearchCV(cv=5, error_score=nan,\n",
       "                   estimator=LogisticRegression(C=1.0, class_weight=None,\n",
       "                                                dual=False, fit_intercept=True,\n",
       "                                                intercept_scaling=1,\n",
       "                                                l1_ratio=None, max_iter=100,\n",
       "                                                multi_class='auto', n_jobs=None,\n",
       "                                                penalty='l2', random_state=None,\n",
       "                                                solver='lbfgs', tol=0.0001,\n",
       "                                                verbose=0, warm_start=False),\n",
       "                   iid='deprecated', n_iter=10, n_jobs=None,\n",
       "                   param_distributions={'C':...\n",
       "                                        'l1_ratio': [None],\n",
       "                                        'max_iter': [1, 10, 100, 1000, 10000],\n",
       "                                        'multi_class': ['auto'],\n",
       "                                        'n_jobs': [None],\n",
       "                                        'penalty': ['l1', 'l2', 'elasticnet',\n",
       "                                                    'none'],\n",
       "                                        'random_state': [None],\n",
       "                                        'solver': ['newton-cg', 'lbfgs',\n",
       "                                                   'liblinear', 'sag', 'saga'],\n",
       "                                        'tol': [0.0001], 'verbose': [0],\n",
       "                                        'warm_start': [False]},\n",
       "                   pre_dispatch='2*n_jobs', random_state=None, refit=True,\n",
       "                   return_train_score=False, scoring=None, verbose=0)"
      ]
     },
     "execution_count": 8,
     "metadata": {},
     "output_type": "execute_result"
    }
   ],
   "source": [
    "penalty = [\"l1\", \"l2\", \"elasticnet\", \"none\"]\n",
    "solver = [\"newton-cg\", \"lbfgs\", \"liblinear\", \"sag\", \"saga\"]\n",
    "max_iter = [1, 10, 100, 1000, 10000]\n",
    "\n",
    "paramLore = {\n",
    "    \"penalty\": penalty,\n",
    "    \"solver\": solver,\n",
    "    \"max_iter\" : max_iter,\n",
    "    \"C\": [1.0],\n",
    "    \"class_weight\" : [None],\n",
    "    \"dual\" : [False], \"fit_intercept\" : [True],\n",
    "    \"intercept_scaling\" : [1],\n",
    "    \"l1_ratio\" : [None],\n",
    "    \"multi_class\": ['auto'], \"n_jobs\" : [None],\n",
    "    \"random_state\" : [None], \"tol\": [0.0001],\n",
    "    \"verbose\" : [0], \"warm_start\": [False]\n",
    "}\n",
    "\n",
    "lore = LogisticRegression()\n",
    "lore_rnd = RandomizedSearchCV(estimator= lore, param_distributions= paramLore, cv= 5)\n",
    "lore_rnd.fit(xtr, ytr)"
   ]
  },
  {
   "cell_type": "code",
   "execution_count": 9,
   "metadata": {},
   "outputs": [
    {
     "data": {
      "text/plain": [
       "{'warm_start': False,\n",
       " 'verbose': 0,\n",
       " 'tol': 0.0001,\n",
       " 'solver': 'newton-cg',\n",
       " 'random_state': None,\n",
       " 'penalty': 'l2',\n",
       " 'n_jobs': None,\n",
       " 'multi_class': 'auto',\n",
       " 'max_iter': 10,\n",
       " 'l1_ratio': None,\n",
       " 'intercept_scaling': 1,\n",
       " 'fit_intercept': True,\n",
       " 'dual': False,\n",
       " 'class_weight': None,\n",
       " 'C': 1.0}"
      ]
     },
     "execution_count": 9,
     "metadata": {},
     "output_type": "execute_result"
    }
   ],
   "source": [
    "lore_rnd.best_params_"
   ]
  },
  {
   "cell_type": "markdown",
   "metadata": {},
   "source": [
    "##### Logistic Regression Base Model"
   ]
  },
  {
   "cell_type": "code",
   "execution_count": 10,
   "metadata": {},
   "outputs": [
    {
     "name": "stdout",
     "output_type": "stream",
     "text": [
      "              precision    recall  f1-score   support\n",
      "\n",
      "           0       0.84      0.96      0.90      1607\n",
      "           1       0.61      0.25      0.35       393\n",
      "\n",
      "    accuracy                           0.82      2000\n",
      "   macro avg       0.72      0.60      0.62      2000\n",
      "weighted avg       0.79      0.82      0.79      2000\n",
      "\n",
      "AUC Score: 0.6\n",
      "Score:  0.82\n"
     ]
    }
   ],
   "source": [
    "base_lore = LogisticRegression()\n",
    "base_lore.fit(xtr, ytr)\n",
    "scoring(base_lore, xts, yts)"
   ]
  },
  {
   "cell_type": "markdown",
   "metadata": {},
   "source": [
    "##### Logistic Regression Best Model"
   ]
  },
  {
   "cell_type": "code",
   "execution_count": 11,
   "metadata": {},
   "outputs": [
    {
     "name": "stdout",
     "output_type": "stream",
     "text": [
      "              precision    recall  f1-score   support\n",
      "\n",
      "           0       0.84      0.96      0.90      1607\n",
      "           1       0.61      0.25      0.35       393\n",
      "\n",
      "    accuracy                           0.82      2000\n",
      "   macro avg       0.72      0.60      0.62      2000\n",
      "weighted avg       0.79      0.82      0.79      2000\n",
      "\n",
      "AUC Score: 0.6\n",
      "Score:  0.82\n"
     ]
    }
   ],
   "source": [
    "best_lore = lore_rnd.best_estimator_\n",
    "best_lore.fit(xtr, ytr)\n",
    "scoring(best_lore, xts, yts)"
   ]
  },
  {
   "cell_type": "markdown",
   "metadata": {},
   "source": [
    "<hr>\n",
    "\n",
    "### 2. Decision Tree Classifier"
   ]
  },
  {
   "cell_type": "code",
   "execution_count": 12,
   "metadata": {},
   "outputs": [
    {
     "data": {
      "text/plain": [
       "RandomizedSearchCV(cv=5, error_score=nan,\n",
       "                   estimator=DecisionTreeClassifier(ccp_alpha=0.0,\n",
       "                                                    class_weight=None,\n",
       "                                                    criterion='gini',\n",
       "                                                    max_depth=None,\n",
       "                                                    max_features=None,\n",
       "                                                    max_leaf_nodes=None,\n",
       "                                                    min_impurity_decrease=0.0,\n",
       "                                                    min_impurity_split=None,\n",
       "                                                    min_samples_leaf=1,\n",
       "                                                    min_samples_split=2,\n",
       "                                                    min_weight_fraction_leaf=0.0,\n",
       "                                                    presort='deprecated',\n",
       "                                                    random_state=None,\n",
       "                                                    splitter='best'),\n",
       "                   i...\n",
       "                                                      70, 80, 90, 100, None],\n",
       "                                        'max_leaf_nodes': [None],\n",
       "                                        'min_impurity_decrease': [0.0],\n",
       "                                        'min_impurity_split': [None],\n",
       "                                        'min_samples_leaf': [1],\n",
       "                                        'min_samples_split': [2],\n",
       "                                        'min_weight_fraction_leaf': [0.0],\n",
       "                                        'presort': ['deprecated'],\n",
       "                                        'random_state': [None],\n",
       "                                        'splitter': ['best']},\n",
       "                   pre_dispatch='2*n_jobs', random_state=None, refit=True,\n",
       "                   return_train_score=False, scoring=None, verbose=0)"
      ]
     },
     "execution_count": 12,
     "metadata": {},
     "output_type": "execute_result"
    }
   ],
   "source": [
    "made = [10, 20, 30, 40, 50, 60, 70, 80, 90, 100, None]\n",
    "\n",
    "paramDT = {\"max_depth\" : made ,\n",
    "          \"presort\" : [True, False],\n",
    "          \"ccp_alpha\" : [0.0],\n",
    "          \"criterion\" : [\"gini\"],\n",
    "          \"max_leaf_nodes\" : [None],\n",
    "          \"min_impurity_decrease\" :[0.0],\n",
    "           \"min_impurity_split\" : [None],\n",
    "           \"min_samples_leaf\" : [1],\n",
    "           \"min_samples_split\" : [2],\n",
    "           \"min_weight_fraction_leaf\" : [0.0],\n",
    "           \"presort\" : ['deprecated'],\n",
    "           \"random_state\" : [None],\n",
    "           \"splitter\" : ['best']}\n",
    "\n",
    "dtc = DecisionTreeClassifier()\n",
    "dtc_rnd = RandomizedSearchCV(estimator= dtc, param_distributions= paramDT, cv= 5)\n",
    "dtc_rnd.fit(xtr, ytr)"
   ]
  },
  {
   "cell_type": "code",
   "execution_count": 13,
   "metadata": {},
   "outputs": [
    {
     "data": {
      "text/plain": [
       "{'splitter': 'best',\n",
       " 'random_state': None,\n",
       " 'presort': 'deprecated',\n",
       " 'min_weight_fraction_leaf': 0.0,\n",
       " 'min_samples_split': 2,\n",
       " 'min_samples_leaf': 1,\n",
       " 'min_impurity_split': None,\n",
       " 'min_impurity_decrease': 0.0,\n",
       " 'max_leaf_nodes': None,\n",
       " 'max_depth': 10,\n",
       " 'criterion': 'gini',\n",
       " 'ccp_alpha': 0.0}"
      ]
     },
     "execution_count": 13,
     "metadata": {},
     "output_type": "execute_result"
    }
   ],
   "source": [
    "dtc_rnd.best_params_"
   ]
  },
  {
   "cell_type": "markdown",
   "metadata": {},
   "source": [
    "##### Decision Tree Base Parameter"
   ]
  },
  {
   "cell_type": "code",
   "execution_count": 14,
   "metadata": {},
   "outputs": [
    {
     "name": "stdout",
     "output_type": "stream",
     "text": [
      "              precision    recall  f1-score   support\n",
      "\n",
      "           0       0.88      0.87      0.88      1607\n",
      "           1       0.50      0.54      0.52       393\n",
      "\n",
      "    accuracy                           0.80      2000\n",
      "   macro avg       0.69      0.70      0.70      2000\n",
      "weighted avg       0.81      0.80      0.80      2000\n",
      "\n",
      "AUC Score: 0.7\n",
      "Score:  0.802\n"
     ]
    }
   ],
   "source": [
    "base_dtc = DecisionTreeClassifier()\n",
    "base_dtc.fit(xtr, ytr)\n",
    "scoring(base_dtc, xts, yts)"
   ]
  },
  {
   "cell_type": "markdown",
   "metadata": {},
   "source": [
    "##### Decision Tree Best Parameter"
   ]
  },
  {
   "cell_type": "code",
   "execution_count": 15,
   "metadata": {},
   "outputs": [
    {
     "name": "stdout",
     "output_type": "stream",
     "text": [
      "              precision    recall  f1-score   support\n",
      "\n",
      "           0       0.89      0.94      0.91      1607\n",
      "           1       0.68      0.50      0.58       393\n",
      "\n",
      "    accuracy                           0.86      2000\n",
      "   macro avg       0.78      0.72      0.74      2000\n",
      "weighted avg       0.84      0.86      0.85      2000\n",
      "\n",
      "AUC Score: 0.72\n",
      "Score:  0.856\n"
     ]
    }
   ],
   "source": [
    "best_dtc = dtc_rnd.best_estimator_\n",
    "best_dtc.fit(xtr, ytr)\n",
    "scoring(best_dtc, xts, yts)"
   ]
  },
  {
   "cell_type": "markdown",
   "metadata": {},
   "source": [
    "<hr>\n",
    "\n",
    "### 3. K-Neighbor Classifier"
   ]
  },
  {
   "cell_type": "code",
   "execution_count": 16,
   "metadata": {},
   "outputs": [
    {
     "data": {
      "text/plain": [
       "RandomizedSearchCV(cv=5, error_score=nan,\n",
       "                   estimator=KNeighborsClassifier(algorithm='auto',\n",
       "                                                  leaf_size=30,\n",
       "                                                  metric='minkowski',\n",
       "                                                  metric_params=None,\n",
       "                                                  n_jobs=None, n_neighbors=5,\n",
       "                                                  p=2, weights='uniform'),\n",
       "                   iid='deprecated', n_iter=10, n_jobs=None,\n",
       "                   param_distributions={'algorithm': ['ball_tree', 'kd_tree',\n",
       "                                                      'brute', 'auto'],\n",
       "                                        'leaf_size': [30],\n",
       "                                        'metric': ['minkowski'],\n",
       "                                        'metric_params': [None],\n",
       "                                        'n_jobs': [None],\n",
       "                                        'n_neighbors': [84, 85, 86, 87, 88, 89,\n",
       "                                                        90, 91, 92, 93],\n",
       "                                        'p': [2], 'weights': ['uniform']},\n",
       "                   pre_dispatch='2*n_jobs', random_state=None, refit=True,\n",
       "                   return_train_score=False, scoring=None, verbose=0)"
      ]
     },
     "execution_count": 16,
     "metadata": {},
     "output_type": "execute_result"
    }
   ],
   "source": [
    "k = round(xtr.shape[0] ** .5)\n",
    "if k % 2 == 0:\n",
    "    k+=1\n",
    "    \n",
    "n_neighbors = list(range(k-5, k+5))\n",
    "algo = [\"ball_tree\", \"kd_tree\", \"brute\", \"auto\"]\n",
    "\n",
    "paramKNN = {\n",
    "    \"n_neighbors\": n_neighbors,\n",
    "    \"algorithm\": algo,\n",
    "    \"leaf_size\" : [30],\n",
    "    \"metric\" : ['minkowski'],\n",
    "    \"metric_params\" : [None],\n",
    "    \"n_jobs\" : [None],\n",
    "    \"p\": [2], \"weights\" : [\"uniform\"]\n",
    "}\n",
    "\n",
    "knn = KNeighborsClassifier()\n",
    "knn_rnd = RandomizedSearchCV(estimator= knn, param_distributions= paramKNN, cv= 5)\n",
    "knn_rnd.fit(xtr, ytr)"
   ]
  },
  {
   "cell_type": "code",
   "execution_count": 17,
   "metadata": {},
   "outputs": [
    {
     "data": {
      "text/plain": [
       "{'weights': 'uniform',\n",
       " 'p': 2,\n",
       " 'n_neighbors': 85,\n",
       " 'n_jobs': None,\n",
       " 'metric_params': None,\n",
       " 'metric': 'minkowski',\n",
       " 'leaf_size': 30,\n",
       " 'algorithm': 'auto'}"
      ]
     },
     "execution_count": 17,
     "metadata": {},
     "output_type": "execute_result"
    }
   ],
   "source": [
    "knn_rnd.best_params_"
   ]
  },
  {
   "cell_type": "markdown",
   "metadata": {},
   "source": [
    "##### K-Neighbor Base Parameter"
   ]
  },
  {
   "cell_type": "code",
   "execution_count": 18,
   "metadata": {},
   "outputs": [
    {
     "name": "stdout",
     "output_type": "stream",
     "text": [
      "              precision    recall  f1-score   support\n",
      "\n",
      "           0       0.87      0.95      0.90      1607\n",
      "           1       0.64      0.40      0.50       393\n",
      "\n",
      "    accuracy                           0.84      2000\n",
      "   macro avg       0.76      0.67      0.70      2000\n",
      "weighted avg       0.82      0.84      0.82      2000\n",
      "\n",
      "AUC Score: 0.67\n",
      "Score:  0.839\n"
     ]
    }
   ],
   "source": [
    "base_knn = KNeighborsClassifier()\n",
    "base_knn.fit(xtr, ytr)\n",
    "scoring(base_knn, xts, yts)"
   ]
  },
  {
   "cell_type": "markdown",
   "metadata": {},
   "source": [
    "##### K-Neighbor Best Parameter"
   ]
  },
  {
   "cell_type": "code",
   "execution_count": 19,
   "metadata": {},
   "outputs": [
    {
     "name": "stdout",
     "output_type": "stream",
     "text": [
      "              precision    recall  f1-score   support\n",
      "\n",
      "           0       0.83      0.99      0.90      1607\n",
      "           1       0.77      0.17      0.28       393\n",
      "\n",
      "    accuracy                           0.83      2000\n",
      "   macro avg       0.80      0.58      0.59      2000\n",
      "weighted avg       0.82      0.83      0.78      2000\n",
      "\n",
      "AUC Score: 0.58\n",
      "Score:  0.826\n"
     ]
    }
   ],
   "source": [
    "best_knn = knn_rnd.best_estimator_\n",
    "best_knn.fit(xtr, ytr)\n",
    "scoring(best_knn, xts, yts)"
   ]
  },
  {
   "cell_type": "markdown",
   "metadata": {},
   "source": [
    "<hr>\n",
    "\n",
    "### 4. Random Forest Classifier"
   ]
  },
  {
   "cell_type": "code",
   "execution_count": 20,
   "metadata": {},
   "outputs": [
    {
     "data": {
      "text/plain": [
       "RandomizedSearchCV(cv=5, error_score=nan,\n",
       "                   estimator=RandomForestClassifier(bootstrap=True,\n",
       "                                                    ccp_alpha=0.0,\n",
       "                                                    class_weight=None,\n",
       "                                                    criterion='gini',\n",
       "                                                    max_depth=None,\n",
       "                                                    max_features='auto',\n",
       "                                                    max_leaf_nodes=None,\n",
       "                                                    max_samples=None,\n",
       "                                                    min_impurity_decrease=0.0,\n",
       "                                                    min_impurity_split=None,\n",
       "                                                    min_samples_leaf=1,\n",
       "                                                    min_samples_split=2,\n",
       "                                                    min_weight_fraction_leaf=0.0,\n",
       "                                                    n_estimators=100,\n",
       "                                                    n_jobs...\n",
       "                   param_distributions={'bootstrap': [True, False],\n",
       "                                        'ccp_alpha': [0.0],\n",
       "                                        'class_weight': [None],\n",
       "                                        'criterion': ['gini'],\n",
       "                                        'max_depth': [None],\n",
       "                                        'max_features': ['auto', 'sqrt'],\n",
       "                                        'min_samples_leaf': [1, 2, 4],\n",
       "                                        'min_samples_split': [2, 5, 10],\n",
       "                                        'n_estimators': [10, 15, 20, 25, 30, 35,\n",
       "                                                         40, 45, 50, 55, 60, 65,\n",
       "                                                         70, 75, 80, 85, 90,\n",
       "                                                         95]},\n",
       "                   pre_dispatch='2*n_jobs', random_state=None, refit=True,\n",
       "                   return_train_score=False, scoring=None, verbose=0)"
      ]
     },
     "execution_count": 20,
     "metadata": {},
     "output_type": "execute_result"
    }
   ],
   "source": [
    "n_estimators = list(range(10, 100, 5))\n",
    "max_features = ['auto', 'sqrt']\n",
    "min_samples_split = [2, 5, 10]\n",
    "min_samples_leaf = [1, 2, 4]\n",
    "bootstrap = [True, False]\n",
    "\n",
    "paramRFC = {'n_estimators': n_estimators,\n",
    "            'max_features': max_features,\n",
    "            'min_samples_split': min_samples_split,\n",
    "            'min_samples_leaf': min_samples_leaf,\n",
    "            'bootstrap': bootstrap,\n",
    "            \"ccp_alpha\" : [0.0],\n",
    "            \"class_weight\" : [None],\n",
    "            \"criterion\": ['gini'],\n",
    "            \"max_depth\" : [None]\n",
    "           }\n",
    "\n",
    "rfc = RandomForestClassifier()\n",
    "rfc_rnd = RandomizedSearchCV(estimator= rfc, param_distributions= paramRFC, cv= 5)\n",
    "rfc_rnd.fit(xtr, ytr)"
   ]
  },
  {
   "cell_type": "code",
   "execution_count": 21,
   "metadata": {},
   "outputs": [
    {
     "data": {
      "text/plain": [
       "{'n_estimators': 80,\n",
       " 'min_samples_split': 5,\n",
       " 'min_samples_leaf': 2,\n",
       " 'max_features': 'sqrt',\n",
       " 'max_depth': None,\n",
       " 'criterion': 'gini',\n",
       " 'class_weight': None,\n",
       " 'ccp_alpha': 0.0,\n",
       " 'bootstrap': True}"
      ]
     },
     "execution_count": 21,
     "metadata": {},
     "output_type": "execute_result"
    }
   ],
   "source": [
    "rfc_rnd.best_params_"
   ]
  },
  {
   "cell_type": "markdown",
   "metadata": {},
   "source": [
    "##### Random Forest Base Parameter"
   ]
  },
  {
   "cell_type": "code",
   "execution_count": 22,
   "metadata": {},
   "outputs": [
    {
     "name": "stdout",
     "output_type": "stream",
     "text": [
      "              precision    recall  f1-score   support\n",
      "\n",
      "           0       0.89      0.97      0.93      1607\n",
      "           1       0.79      0.50      0.61       393\n",
      "\n",
      "    accuracy                           0.88      2000\n",
      "   macro avg       0.84      0.74      0.77      2000\n",
      "weighted avg       0.87      0.88      0.86      2000\n",
      "\n",
      "AUC Score: 0.74\n",
      "Score:  0.876\n"
     ]
    }
   ],
   "source": [
    "base_rf = RandomForestClassifier()\n",
    "base_rf.fit(xtr, ytr)\n",
    "scoring(base_rf, xts, yts)"
   ]
  },
  {
   "cell_type": "markdown",
   "metadata": {},
   "source": [
    "##### Random Forest Best Parameter"
   ]
  },
  {
   "cell_type": "code",
   "execution_count": 23,
   "metadata": {},
   "outputs": [
    {
     "name": "stdout",
     "output_type": "stream",
     "text": [
      "              precision    recall  f1-score   support\n",
      "\n",
      "           0       0.89      0.97      0.93      1607\n",
      "           1       0.79      0.50      0.62       393\n",
      "\n",
      "    accuracy                           0.88      2000\n",
      "   macro avg       0.84      0.74      0.77      2000\n",
      "weighted avg       0.87      0.88      0.87      2000\n",
      "\n",
      "AUC Score: 0.74\n",
      "Score:  0.876\n"
     ]
    }
   ],
   "source": [
    "best_rf = rfc_rnd.best_estimator_\n",
    "best_rf.fit(xtr, ytr)\n",
    "scoring(best_rf, xts, yts)"
   ]
  },
  {
   "cell_type": "markdown",
   "metadata": {},
   "source": [
    "<hr>\n",
    "\n",
    "### Comparing Score"
   ]
  },
  {
   "cell_type": "code",
   "execution_count": 24,
   "metadata": {},
   "outputs": [
    {
     "data": {
      "text/html": [
       "<div>\n",
       "<style scoped>\n",
       "    .dataframe tbody tr th:only-of-type {\n",
       "        vertical-align: middle;\n",
       "    }\n",
       "\n",
       "    .dataframe tbody tr th {\n",
       "        vertical-align: top;\n",
       "    }\n",
       "\n",
       "    .dataframe thead th {\n",
       "        text-align: right;\n",
       "    }\n",
       "</style>\n",
       "<table border=\"1\" class=\"dataframe\">\n",
       "  <thead>\n",
       "    <tr style=\"text-align: right;\">\n",
       "      <th></th>\n",
       "      <th>Model</th>\n",
       "      <th>Base</th>\n",
       "      <th>Best</th>\n",
       "    </tr>\n",
       "  </thead>\n",
       "  <tbody>\n",
       "    <tr>\n",
       "      <th>0</th>\n",
       "      <td>Logistic Regression</td>\n",
       "      <td>0.8205</td>\n",
       "      <td>0.8205</td>\n",
       "    </tr>\n",
       "    <tr>\n",
       "      <th>1</th>\n",
       "      <td>Decision Tree Classifier</td>\n",
       "      <td>0.8015</td>\n",
       "      <td>0.8555</td>\n",
       "    </tr>\n",
       "    <tr>\n",
       "      <th>2</th>\n",
       "      <td>K-Neighbor Classifier</td>\n",
       "      <td>0.8390</td>\n",
       "      <td>0.8265</td>\n",
       "    </tr>\n",
       "    <tr>\n",
       "      <th>3</th>\n",
       "      <td>Random Forest Classifier</td>\n",
       "      <td>0.8755</td>\n",
       "      <td>0.8765</td>\n",
       "    </tr>\n",
       "  </tbody>\n",
       "</table>\n",
       "</div>"
      ],
      "text/plain": [
       "                      Model    Base    Best\n",
       "0       Logistic Regression  0.8205  0.8205\n",
       "1  Decision Tree Classifier  0.8015  0.8555\n",
       "2     K-Neighbor Classifier  0.8390  0.8265\n",
       "3  Random Forest Classifier  0.8755  0.8765"
      ]
     },
     "execution_count": 24,
     "metadata": {},
     "output_type": "execute_result"
    }
   ],
   "source": [
    "base = [base_lore, base_dtc, base_knn, base_rf]\n",
    "best = [best_lore, best_dtc, best_knn, best_rf]\n",
    "base_score = []\n",
    "best_score = []\n",
    "\n",
    "for i in base:\n",
    "    base_score.append(i.score(xts, yts))\n",
    "\n",
    "for i in best:\n",
    "    best_score.append(i.score(xts, yts))\n",
    "    \n",
    "mod = [\"Logistic Regression\", \"Decision Tree Classifier\", \"K-Neighbor Classifier\", \"Random Forest Classifier\"]\n",
    "\n",
    "modscore = {}\n",
    "modscore[\"Model\"] = mod\n",
    "modscore[\"Base\"] = base_score\n",
    "modscore[\"Best\"] = best_score\n",
    "\n",
    "Score = pd.DataFrame.from_dict(modscore)\n",
    "Score"
   ]
  },
  {
   "cell_type": "markdown",
   "metadata": {},
   "source": [
    "#### from the table above, Random Forest Classifier `best_rf` choosen as the best model."
   ]
  },
  {
   "cell_type": "markdown",
   "metadata": {},
   "source": [
    "<hr>\n",
    "\n",
    "### Final Model Visualization"
   ]
  },
  {
   "cell_type": "code",
   "execution_count": 25,
   "metadata": {},
   "outputs": [
    {
     "data": {
      "text/html": [
       "<div>\n",
       "<style scoped>\n",
       "    .dataframe tbody tr th:only-of-type {\n",
       "        vertical-align: middle;\n",
       "    }\n",
       "\n",
       "    .dataframe tbody tr th {\n",
       "        vertical-align: top;\n",
       "    }\n",
       "\n",
       "    .dataframe thead th {\n",
       "        text-align: right;\n",
       "    }\n",
       "</style>\n",
       "<table border=\"1\" class=\"dataframe\">\n",
       "  <thead>\n",
       "    <tr style=\"text-align: right;\">\n",
       "      <th></th>\n",
       "      <th>index</th>\n",
       "      <th>actual</th>\n",
       "      <th>pred</th>\n",
       "    </tr>\n",
       "  </thead>\n",
       "  <tbody>\n",
       "    <tr>\n",
       "      <th>0</th>\n",
       "      <td>0</td>\n",
       "      <td>0</td>\n",
       "      <td>0</td>\n",
       "    </tr>\n",
       "    <tr>\n",
       "      <th>1</th>\n",
       "      <td>1265</td>\n",
       "      <td>0</td>\n",
       "      <td>0</td>\n",
       "    </tr>\n",
       "    <tr>\n",
       "      <th>2</th>\n",
       "      <td>1264</td>\n",
       "      <td>0</td>\n",
       "      <td>0</td>\n",
       "    </tr>\n",
       "    <tr>\n",
       "      <th>3</th>\n",
       "      <td>1263</td>\n",
       "      <td>0</td>\n",
       "      <td>0</td>\n",
       "    </tr>\n",
       "    <tr>\n",
       "      <th>4</th>\n",
       "      <td>1262</td>\n",
       "      <td>0</td>\n",
       "      <td>0</td>\n",
       "    </tr>\n",
       "    <tr>\n",
       "      <th>...</th>\n",
       "      <td>...</td>\n",
       "      <td>...</td>\n",
       "      <td>...</td>\n",
       "    </tr>\n",
       "    <tr>\n",
       "      <th>95</th>\n",
       "      <td>1214</td>\n",
       "      <td>0</td>\n",
       "      <td>0</td>\n",
       "    </tr>\n",
       "    <tr>\n",
       "      <th>96</th>\n",
       "      <td>1211</td>\n",
       "      <td>0</td>\n",
       "      <td>0</td>\n",
       "    </tr>\n",
       "    <tr>\n",
       "      <th>97</th>\n",
       "      <td>1210</td>\n",
       "      <td>0</td>\n",
       "      <td>0</td>\n",
       "    </tr>\n",
       "    <tr>\n",
       "      <th>98</th>\n",
       "      <td>1209</td>\n",
       "      <td>0</td>\n",
       "      <td>0</td>\n",
       "    </tr>\n",
       "    <tr>\n",
       "      <th>99</th>\n",
       "      <td>1208</td>\n",
       "      <td>0</td>\n",
       "      <td>0</td>\n",
       "    </tr>\n",
       "  </tbody>\n",
       "</table>\n",
       "<p>100 rows × 3 columns</p>\n",
       "</div>"
      ],
      "text/plain": [
       "    index  actual  pred\n",
       "0       0       0     0\n",
       "1    1265       0     0\n",
       "2    1264       0     0\n",
       "3    1263       0     0\n",
       "4    1262       0     0\n",
       "..    ...     ...   ...\n",
       "95   1214       0     0\n",
       "96   1211       0     0\n",
       "97   1210       0     0\n",
       "98   1209       0     0\n",
       "99   1208       0     0\n",
       "\n",
       "[100 rows x 3 columns]"
      ]
     },
     "execution_count": 25,
     "metadata": {},
     "output_type": "execute_result"
    }
   ],
   "source": [
    "ypr = best_rf.predict(xts)\n",
    "trial = pd.DataFrame({'actual': yts, 'pred': ypr}, dtype='int64')\n",
    "trial.sort_values('actual',inplace=True)\n",
    "trial.reset_index(inplace=True)\n",
    "trial.head(100)"
   ]
  },
  {
   "cell_type": "code",
   "execution_count": 26,
   "metadata": {},
   "outputs": [
    {
     "name": "stdout",
     "output_type": "stream",
     "text": [
      "[[1555   52]\n",
      " [ 195  198]]\n",
      "TP : 1555\n",
      "FN : 52\n",
      "FP : 195\n",
      "TN : 198\n"
     ]
    }
   ],
   "source": [
    "conmax = confusion_matrix(yts, ypr)\n",
    "print(conmax)\n",
    "print(\"TP :\", conmax[0][0])\n",
    "print(\"FN :\", conmax[0][1])\n",
    "print(\"FP :\", conmax[1][0])\n",
    "print(\"TN :\", conmax[1][1])"
   ]
  },
  {
   "cell_type": "code",
   "execution_count": 27,
   "metadata": {},
   "outputs": [
    {
     "data": {
      "text/plain": [
       "array([[0.86868056, 0.13131944],\n",
       "       [0.93314688, 0.06685312],\n",
       "       [0.66024892, 0.33975108],\n",
       "       ...,\n",
       "       [0.92585996, 0.07414004],\n",
       "       [0.50643353, 0.49356647],\n",
       "       [0.97083333, 0.02916667]])"
      ]
     },
     "execution_count": 27,
     "metadata": {},
     "output_type": "execute_result"
    }
   ],
   "source": [
    "proba = best_rf.predict_proba(xts)\n",
    "proba"
   ]
  },
  {
   "cell_type": "code",
   "execution_count": 28,
   "metadata": {},
   "outputs": [
    {
     "data": {
      "image/png": "[encoded data removed]",
      "text/plain": [
       "<Figure size 720x576 with 1 Axes>"
      ]
     },
     "metadata": {
      "needs_background": "light"
     },
     "output_type": "display_data"
    }
   ],
   "source": [
    "preds = proba[:,1]\n",
    "fpr, tpr, ths = roc_curve(yts, preds)\n",
    "roc_auc = auc(fpr, tpr)\n",
    "\n",
    "plt.figure(figsize=(10,8))\n",
    "plt.title(\"Receiver Operating Characteristic\")\n",
    "plt.plot(fpr, tpr, 'b', label = 'AUC = {}'.format(round(roc_auc, 2)))\n",
    "plt.legend(loc = 'lower right')\n",
    "plt.plot([0,1], [0,1], 'r--')\n",
    "plt.xlim([0,1])\n",
    "plt.ylim([0,1])\n",
    "plt.ylabel('True Positive Rate')\n",
    "plt.xlabel('False Positive Rate')\n",
    "plt.show()"
   ]
  },
  {
   "cell_type": "code",
   "execution_count": 29,
   "metadata": {},
   "outputs": [
    {
     "data": {
      "image/png": "[encoded data removed]",
      "text/plain": [
       "<Figure size 2160x144 with 1 Axes>"
      ]
     },
     "metadata": {
      "needs_background": "light"
     },
     "output_type": "display_data"
    }
   ],
   "source": [
    "plt.figure(figsize=(30,2))\n",
    "plt.plot(trial.head(100).index.tolist(), trial.head(100).actual, 'ro')\n",
    "plt.plot(trial.head(100).index.tolist(), trial.head(100).pred, 'bo')\n",
    "plt.show()"
   ]
  },
  {
   "cell_type": "markdown",
   "metadata": {},
   "source": [
    "#### The red dots shows the actual data that can't be predicted by model."
   ]
  },
  {
   "cell_type": "markdown",
   "metadata": {},
   "source": [
    "<hr>\n",
    "\n",
    "### Deploy model to joblib"
   ]
  },
  {
   "cell_type": "code",
   "execution_count": 31,
   "metadata": {},
   "outputs": [
    {
     "data": {
      "text/plain": [
       "['modelScaler']"
      ]
     },
     "execution_count": 31,
     "metadata": {},
     "output_type": "execute_result"
    }
   ],
   "source": [
    "joblib.dump(best_rf, \"modelFix\")\n",
    "joblib.dump(scaler, \"modelScaler\")"
   ]
  }
 ],
 "metadata": {
  "kernelspec": {
   "display_name": "Python 3",
   "language": "python",
   "name": "python3"
  },
  "language_info": {
   "codemirror_mode": {
    "name": "ipython",
    "version": 3
   },
   "file_extension": ".py",
   "mimetype": "text/x-python",
   "name": "python",
   "nbconvert_exporter": "python",
   "pygments_lexer": "ipython3",
   "version": "3.8.0"
  }
 },
 "nbformat": 4,
 "nbformat_minor": 4
}
